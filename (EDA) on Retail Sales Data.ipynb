{
 "cells": [
  {
   "cell_type": "code",
   "execution_count": 2,
   "id": "b81b2ea6",
   "metadata": {},
   "outputs": [
    {
     "name": "stderr",
     "output_type": "stream",
     "text": [
      "C:\\Users\\KIIT\\anaconda3\\lib\\site-packages\\scipy\\__init__.py:146: UserWarning: A NumPy version >=1.16.5 and <1.23.0 is required for this version of SciPy (detected version 1.24.3\n",
      "  warnings.warn(f\"A NumPy version >={np_minversion} and <{np_maxversion}\"\n"
     ]
    }
   ],
   "source": [
    "#importing libraries\n",
    "import pandas as pd\n",
    "import numpy as np\n",
    "import seaborn as sns\n",
    "import matplotlib.pyplot as plt"
   ]
  },
  {
   "cell_type": "markdown",
   "id": "526fad5b",
   "metadata": {},
   "source": [
    "## Data Loading and Cleaning"
   ]
  },
  {
   "cell_type": "code",
   "execution_count": 3,
   "id": "3d24ab4f",
   "metadata": {},
   "outputs": [
    {
     "data": {
      "text/html": [
       "<div>\n",
       "<style scoped>\n",
       "    .dataframe tbody tr th:only-of-type {\n",
       "        vertical-align: middle;\n",
       "    }\n",
       "\n",
       "    .dataframe tbody tr th {\n",
       "        vertical-align: top;\n",
       "    }\n",
       "\n",
       "    .dataframe thead th {\n",
       "        text-align: right;\n",
       "    }\n",
       "</style>\n",
       "<table border=\"1\" class=\"dataframe\">\n",
       "  <thead>\n",
       "    <tr style=\"text-align: right;\">\n",
       "      <th></th>\n",
       "      <th>Transaction ID</th>\n",
       "      <th>Date</th>\n",
       "      <th>Customer ID</th>\n",
       "      <th>Gender</th>\n",
       "      <th>Age</th>\n",
       "      <th>Product Category</th>\n",
       "      <th>Quantity</th>\n",
       "      <th>Price per Unit</th>\n",
       "      <th>Total Amount</th>\n",
       "    </tr>\n",
       "  </thead>\n",
       "  <tbody>\n",
       "    <tr>\n",
       "      <th>0</th>\n",
       "      <td>1</td>\n",
       "      <td>2023-11-24</td>\n",
       "      <td>CUST001</td>\n",
       "      <td>Male</td>\n",
       "      <td>34</td>\n",
       "      <td>Beauty</td>\n",
       "      <td>3</td>\n",
       "      <td>50</td>\n",
       "      <td>150</td>\n",
       "    </tr>\n",
       "    <tr>\n",
       "      <th>1</th>\n",
       "      <td>2</td>\n",
       "      <td>2023-02-27</td>\n",
       "      <td>CUST002</td>\n",
       "      <td>Female</td>\n",
       "      <td>26</td>\n",
       "      <td>Clothing</td>\n",
       "      <td>2</td>\n",
       "      <td>500</td>\n",
       "      <td>1000</td>\n",
       "    </tr>\n",
       "    <tr>\n",
       "      <th>2</th>\n",
       "      <td>3</td>\n",
       "      <td>2023-01-13</td>\n",
       "      <td>CUST003</td>\n",
       "      <td>Male</td>\n",
       "      <td>50</td>\n",
       "      <td>Electronics</td>\n",
       "      <td>1</td>\n",
       "      <td>30</td>\n",
       "      <td>30</td>\n",
       "    </tr>\n",
       "    <tr>\n",
       "      <th>3</th>\n",
       "      <td>4</td>\n",
       "      <td>2023-05-21</td>\n",
       "      <td>CUST004</td>\n",
       "      <td>Male</td>\n",
       "      <td>37</td>\n",
       "      <td>Clothing</td>\n",
       "      <td>1</td>\n",
       "      <td>500</td>\n",
       "      <td>500</td>\n",
       "    </tr>\n",
       "    <tr>\n",
       "      <th>4</th>\n",
       "      <td>5</td>\n",
       "      <td>2023-05-06</td>\n",
       "      <td>CUST005</td>\n",
       "      <td>Male</td>\n",
       "      <td>30</td>\n",
       "      <td>Beauty</td>\n",
       "      <td>2</td>\n",
       "      <td>50</td>\n",
       "      <td>100</td>\n",
       "    </tr>\n",
       "    <tr>\n",
       "      <th>...</th>\n",
       "      <td>...</td>\n",
       "      <td>...</td>\n",
       "      <td>...</td>\n",
       "      <td>...</td>\n",
       "      <td>...</td>\n",
       "      <td>...</td>\n",
       "      <td>...</td>\n",
       "      <td>...</td>\n",
       "      <td>...</td>\n",
       "    </tr>\n",
       "    <tr>\n",
       "      <th>995</th>\n",
       "      <td>996</td>\n",
       "      <td>2023-05-16</td>\n",
       "      <td>CUST996</td>\n",
       "      <td>Male</td>\n",
       "      <td>62</td>\n",
       "      <td>Clothing</td>\n",
       "      <td>1</td>\n",
       "      <td>50</td>\n",
       "      <td>50</td>\n",
       "    </tr>\n",
       "    <tr>\n",
       "      <th>996</th>\n",
       "      <td>997</td>\n",
       "      <td>2023-11-17</td>\n",
       "      <td>CUST997</td>\n",
       "      <td>Male</td>\n",
       "      <td>52</td>\n",
       "      <td>Beauty</td>\n",
       "      <td>3</td>\n",
       "      <td>30</td>\n",
       "      <td>90</td>\n",
       "    </tr>\n",
       "    <tr>\n",
       "      <th>997</th>\n",
       "      <td>998</td>\n",
       "      <td>2023-10-29</td>\n",
       "      <td>CUST998</td>\n",
       "      <td>Female</td>\n",
       "      <td>23</td>\n",
       "      <td>Beauty</td>\n",
       "      <td>4</td>\n",
       "      <td>25</td>\n",
       "      <td>100</td>\n",
       "    </tr>\n",
       "    <tr>\n",
       "      <th>998</th>\n",
       "      <td>999</td>\n",
       "      <td>2023-12-05</td>\n",
       "      <td>CUST999</td>\n",
       "      <td>Female</td>\n",
       "      <td>36</td>\n",
       "      <td>Electronics</td>\n",
       "      <td>3</td>\n",
       "      <td>50</td>\n",
       "      <td>150</td>\n",
       "    </tr>\n",
       "    <tr>\n",
       "      <th>999</th>\n",
       "      <td>1000</td>\n",
       "      <td>2023-04-12</td>\n",
       "      <td>CUST1000</td>\n",
       "      <td>Male</td>\n",
       "      <td>47</td>\n",
       "      <td>Electronics</td>\n",
       "      <td>4</td>\n",
       "      <td>30</td>\n",
       "      <td>120</td>\n",
       "    </tr>\n",
       "  </tbody>\n",
       "</table>\n",
       "<p>1000 rows × 9 columns</p>\n",
       "</div>"
      ],
      "text/plain": [
       "     Transaction ID        Date Customer ID  Gender  Age Product Category  \\\n",
       "0                 1  2023-11-24     CUST001    Male   34           Beauty   \n",
       "1                 2  2023-02-27     CUST002  Female   26         Clothing   \n",
       "2                 3  2023-01-13     CUST003    Male   50      Electronics   \n",
       "3                 4  2023-05-21     CUST004    Male   37         Clothing   \n",
       "4                 5  2023-05-06     CUST005    Male   30           Beauty   \n",
       "..              ...         ...         ...     ...  ...              ...   \n",
       "995             996  2023-05-16     CUST996    Male   62         Clothing   \n",
       "996             997  2023-11-17     CUST997    Male   52           Beauty   \n",
       "997             998  2023-10-29     CUST998  Female   23           Beauty   \n",
       "998             999  2023-12-05     CUST999  Female   36      Electronics   \n",
       "999            1000  2023-04-12    CUST1000    Male   47      Electronics   \n",
       "\n",
       "     Quantity  Price per Unit  Total Amount  \n",
       "0           3              50           150  \n",
       "1           2             500          1000  \n",
       "2           1              30            30  \n",
       "3           1             500           500  \n",
       "4           2              50           100  \n",
       "..        ...             ...           ...  \n",
       "995         1              50            50  \n",
       "996         3              30            90  \n",
       "997         4              25           100  \n",
       "998         3              50           150  \n",
       "999         4              30           120  \n",
       "\n",
       "[1000 rows x 9 columns]"
      ]
     },
     "execution_count": 3,
     "metadata": {},
     "output_type": "execute_result"
    }
   ],
   "source": [
    "#loading the Dataset\n",
    "sales_data = pd.read_csv(\"retail_sales_dataset.csv\")\n",
    "sales_data"
   ]
  },
  {
   "cell_type": "code",
   "execution_count": 4,
   "id": "f90cfc22",
   "metadata": {},
   "outputs": [
    {
     "data": {
      "text/plain": [
       "(1000, 9)"
      ]
     },
     "execution_count": 4,
     "metadata": {},
     "output_type": "execute_result"
    }
   ],
   "source": [
    "#get the number of rows and columns in a pandas \n",
    "sales_data.shape"
   ]
  },
  {
   "cell_type": "code",
   "execution_count": 5,
   "id": "036183e2",
   "metadata": {},
   "outputs": [
    {
     "name": "stdout",
     "output_type": "stream",
     "text": [
      "<class 'pandas.core.frame.DataFrame'>\n",
      "RangeIndex: 1000 entries, 0 to 999\n",
      "Data columns (total 9 columns):\n",
      " #   Column            Non-Null Count  Dtype \n",
      "---  ------            --------------  ----- \n",
      " 0   Transaction ID    1000 non-null   int64 \n",
      " 1   Date              1000 non-null   object\n",
      " 2   Customer ID       1000 non-null   object\n",
      " 3   Gender            1000 non-null   object\n",
      " 4   Age               1000 non-null   int64 \n",
      " 5   Product Category  1000 non-null   object\n",
      " 6   Quantity          1000 non-null   int64 \n",
      " 7   Price per Unit    1000 non-null   int64 \n",
      " 8   Total Amount      1000 non-null   int64 \n",
      "dtypes: int64(5), object(4)\n",
      "memory usage: 70.4+ KB\n"
     ]
    }
   ],
   "source": [
    "#checking the data types\n",
    "sales_data.info()"
   ]
  },
  {
   "cell_type": "code",
   "execution_count": 6,
   "id": "fdb92d2c",
   "metadata": {},
   "outputs": [
    {
     "data": {
      "text/plain": [
       "Transaction ID      0\n",
       "Date                0\n",
       "Customer ID         0\n",
       "Gender              0\n",
       "Age                 0\n",
       "Product Category    0\n",
       "Quantity            0\n",
       "Price per Unit      0\n",
       "Total Amount        0\n",
       "dtype: int64"
      ]
     },
     "execution_count": 6,
     "metadata": {},
     "output_type": "execute_result"
    }
   ],
   "source": [
    "#Checking null values\n",
    "sales_data.isna().sum()"
   ]
  },
  {
   "cell_type": "markdown",
   "id": "ebf74fbe",
   "metadata": {},
   "source": [
    "###### Data cleaned!!"
   ]
  },
  {
   "cell_type": "markdown",
   "id": "77e2b09b",
   "metadata": {},
   "source": [
    "## EXPLORATORY DATA ANALYSIS"
   ]
  },
  {
   "cell_type": "markdown",
   "id": "b8564ea3",
   "metadata": {},
   "source": [
    "### Descriptive Statistics \n"
   ]
  },
  {
   "cell_type": "code",
   "execution_count": 7,
   "id": "3a74f8f3",
   "metadata": {},
   "outputs": [
    {
     "data": {
      "text/html": [
       "<div>\n",
       "<style scoped>\n",
       "    .dataframe tbody tr th:only-of-type {\n",
       "        vertical-align: middle;\n",
       "    }\n",
       "\n",
       "    .dataframe tbody tr th {\n",
       "        vertical-align: top;\n",
       "    }\n",
       "\n",
       "    .dataframe thead th {\n",
       "        text-align: right;\n",
       "    }\n",
       "</style>\n",
       "<table border=\"1\" class=\"dataframe\">\n",
       "  <thead>\n",
       "    <tr style=\"text-align: right;\">\n",
       "      <th></th>\n",
       "      <th>Age</th>\n",
       "      <th>Quantity</th>\n",
       "      <th>Price per Unit</th>\n",
       "      <th>Total Amount</th>\n",
       "    </tr>\n",
       "  </thead>\n",
       "  <tbody>\n",
       "    <tr>\n",
       "      <th>count</th>\n",
       "      <td>1000.00000</td>\n",
       "      <td>1000.000000</td>\n",
       "      <td>1000.000000</td>\n",
       "      <td>1000.000000</td>\n",
       "    </tr>\n",
       "    <tr>\n",
       "      <th>mean</th>\n",
       "      <td>41.39200</td>\n",
       "      <td>2.514000</td>\n",
       "      <td>179.890000</td>\n",
       "      <td>456.000000</td>\n",
       "    </tr>\n",
       "    <tr>\n",
       "      <th>std</th>\n",
       "      <td>13.68143</td>\n",
       "      <td>1.132734</td>\n",
       "      <td>189.681356</td>\n",
       "      <td>559.997632</td>\n",
       "    </tr>\n",
       "    <tr>\n",
       "      <th>min</th>\n",
       "      <td>18.00000</td>\n",
       "      <td>1.000000</td>\n",
       "      <td>25.000000</td>\n",
       "      <td>25.000000</td>\n",
       "    </tr>\n",
       "    <tr>\n",
       "      <th>25%</th>\n",
       "      <td>29.00000</td>\n",
       "      <td>1.000000</td>\n",
       "      <td>30.000000</td>\n",
       "      <td>60.000000</td>\n",
       "    </tr>\n",
       "    <tr>\n",
       "      <th>50%</th>\n",
       "      <td>42.00000</td>\n",
       "      <td>3.000000</td>\n",
       "      <td>50.000000</td>\n",
       "      <td>135.000000</td>\n",
       "    </tr>\n",
       "    <tr>\n",
       "      <th>75%</th>\n",
       "      <td>53.00000</td>\n",
       "      <td>4.000000</td>\n",
       "      <td>300.000000</td>\n",
       "      <td>900.000000</td>\n",
       "    </tr>\n",
       "    <tr>\n",
       "      <th>max</th>\n",
       "      <td>64.00000</td>\n",
       "      <td>4.000000</td>\n",
       "      <td>500.000000</td>\n",
       "      <td>2000.000000</td>\n",
       "    </tr>\n",
       "  </tbody>\n",
       "</table>\n",
       "</div>"
      ],
      "text/plain": [
       "              Age     Quantity  Price per Unit  Total Amount\n",
       "count  1000.00000  1000.000000     1000.000000   1000.000000\n",
       "mean     41.39200     2.514000      179.890000    456.000000\n",
       "std      13.68143     1.132734      189.681356    559.997632\n",
       "min      18.00000     1.000000       25.000000     25.000000\n",
       "25%      29.00000     1.000000       30.000000     60.000000\n",
       "50%      42.00000     3.000000       50.000000    135.000000\n",
       "75%      53.00000     4.000000      300.000000    900.000000\n",
       "max      64.00000     4.000000      500.000000   2000.000000"
      ]
     },
     "execution_count": 7,
     "metadata": {},
     "output_type": "execute_result"
    }
   ],
   "source": [
    "#Calculate basic statistics (mean, median, mode, standard deviation)\n",
    "stat = sales_data[['Age', 'Quantity', 'Price per Unit', 'Total Amount']].describe()\n",
    "stat"
   ]
  },
  {
   "cell_type": "markdown",
   "id": "c5b0e7c2",
   "metadata": {},
   "source": [
    "Here, Mean of ['Age', 'Quantity', 'Price per Unit', 'Total Amount'] is 41.39, 2.51, 179.89, 456 respectively .\n",
    "Standard deviation of ['Age', 'Quantity', 'Price per Unit', 'Total Amount'] is 13.68, 1.13, 189.68, 559.99 respectively."
   ]
  },
  {
   "cell_type": "code",
   "execution_count": 8,
   "id": "58c36247",
   "metadata": {},
   "outputs": [
    {
     "data": {
      "text/plain": [
       "Age                42.0\n",
       "Quantity            3.0\n",
       "Price per Unit     50.0\n",
       "Total Amount      135.0\n",
       "dtype: float64"
      ]
     },
     "execution_count": 8,
     "metadata": {},
     "output_type": "execute_result"
    }
   ],
   "source": [
    "median = sales_data[['Age', 'Quantity', 'Price per Unit', 'Total Amount']].median()\n",
    "median"
   ]
  },
  {
   "cell_type": "code",
   "execution_count": 9,
   "id": "7564ad38",
   "metadata": {},
   "outputs": [
    {
     "data": {
      "text/plain": [
       "Age               43.0\n",
       "Quantity           4.0\n",
       "Price per Unit    50.0\n",
       "Total Amount      50.0\n",
       "Name: 0, dtype: float64"
      ]
     },
     "execution_count": 9,
     "metadata": {},
     "output_type": "execute_result"
    }
   ],
   "source": [
    "mode = sales_data[['Age', 'Quantity', 'Price per Unit', 'Total Amount']].mode().iloc[0]\n",
    "mode"
   ]
  },
  {
   "cell_type": "markdown",
   "id": "f6bc9ff0",
   "metadata": {},
   "source": [
    "#### Time Series Analysis"
   ]
  },
  {
   "cell_type": "code",
   "execution_count": 10,
   "id": "d017b2ae",
   "metadata": {},
   "outputs": [
    {
     "data": {
      "text/html": [
       "<div>\n",
       "<style scoped>\n",
       "    .dataframe tbody tr th:only-of-type {\n",
       "        vertical-align: middle;\n",
       "    }\n",
       "\n",
       "    .dataframe tbody tr th {\n",
       "        vertical-align: top;\n",
       "    }\n",
       "\n",
       "    .dataframe thead th {\n",
       "        text-align: right;\n",
       "    }\n",
       "</style>\n",
       "<table border=\"1\" class=\"dataframe\">\n",
       "  <thead>\n",
       "    <tr style=\"text-align: right;\">\n",
       "      <th></th>\n",
       "      <th>Date</th>\n",
       "      <th>Total</th>\n",
       "    </tr>\n",
       "  </thead>\n",
       "  <tbody>\n",
       "    <tr>\n",
       "      <th>0</th>\n",
       "      <td>2023-01-01</td>\n",
       "      <td>3</td>\n",
       "    </tr>\n",
       "    <tr>\n",
       "      <th>1</th>\n",
       "      <td>2023-01-02</td>\n",
       "      <td>4</td>\n",
       "    </tr>\n",
       "    <tr>\n",
       "      <th>2</th>\n",
       "      <td>2023-01-03</td>\n",
       "      <td>1</td>\n",
       "    </tr>\n",
       "    <tr>\n",
       "      <th>3</th>\n",
       "      <td>2023-01-04</td>\n",
       "      <td>3</td>\n",
       "    </tr>\n",
       "    <tr>\n",
       "      <th>4</th>\n",
       "      <td>2023-01-05</td>\n",
       "      <td>3</td>\n",
       "    </tr>\n",
       "    <tr>\n",
       "      <th>5</th>\n",
       "      <td>2023-01-06</td>\n",
       "      <td>2</td>\n",
       "    </tr>\n",
       "    <tr>\n",
       "      <th>6</th>\n",
       "      <td>2023-01-07</td>\n",
       "      <td>2</td>\n",
       "    </tr>\n",
       "    <tr>\n",
       "      <th>7</th>\n",
       "      <td>2023-01-08</td>\n",
       "      <td>2</td>\n",
       "    </tr>\n",
       "    <tr>\n",
       "      <th>8</th>\n",
       "      <td>2023-01-09</td>\n",
       "      <td>1</td>\n",
       "    </tr>\n",
       "    <tr>\n",
       "      <th>9</th>\n",
       "      <td>2023-01-10</td>\n",
       "      <td>2</td>\n",
       "    </tr>\n",
       "    <tr>\n",
       "      <th>10</th>\n",
       "      <td>2023-01-11</td>\n",
       "      <td>3</td>\n",
       "    </tr>\n",
       "    <tr>\n",
       "      <th>11</th>\n",
       "      <td>2023-01-13</td>\n",
       "      <td>4</td>\n",
       "    </tr>\n",
       "    <tr>\n",
       "      <th>12</th>\n",
       "      <td>2023-01-14</td>\n",
       "      <td>4</td>\n",
       "    </tr>\n",
       "    <tr>\n",
       "      <th>13</th>\n",
       "      <td>2023-01-15</td>\n",
       "      <td>3</td>\n",
       "    </tr>\n",
       "    <tr>\n",
       "      <th>14</th>\n",
       "      <td>2023-01-16</td>\n",
       "      <td>2</td>\n",
       "    </tr>\n",
       "    <tr>\n",
       "      <th>15</th>\n",
       "      <td>2023-01-17</td>\n",
       "      <td>4</td>\n",
       "    </tr>\n",
       "    <tr>\n",
       "      <th>16</th>\n",
       "      <td>2023-01-19</td>\n",
       "      <td>1</td>\n",
       "    </tr>\n",
       "    <tr>\n",
       "      <th>17</th>\n",
       "      <td>2023-01-20</td>\n",
       "      <td>2</td>\n",
       "    </tr>\n",
       "    <tr>\n",
       "      <th>18</th>\n",
       "      <td>2023-01-21</td>\n",
       "      <td>3</td>\n",
       "    </tr>\n",
       "    <tr>\n",
       "      <th>19</th>\n",
       "      <td>2023-01-22</td>\n",
       "      <td>2</td>\n",
       "    </tr>\n",
       "    <tr>\n",
       "      <th>20</th>\n",
       "      <td>2023-01-23</td>\n",
       "      <td>3</td>\n",
       "    </tr>\n",
       "    <tr>\n",
       "      <th>21</th>\n",
       "      <td>2023-01-24</td>\n",
       "      <td>3</td>\n",
       "    </tr>\n",
       "    <tr>\n",
       "      <th>22</th>\n",
       "      <td>2023-01-25</td>\n",
       "      <td>1</td>\n",
       "    </tr>\n",
       "    <tr>\n",
       "      <th>23</th>\n",
       "      <td>2023-01-26</td>\n",
       "      <td>4</td>\n",
       "    </tr>\n",
       "  </tbody>\n",
       "</table>\n",
       "</div>"
      ],
      "text/plain": [
       "          Date  Total\n",
       "0   2023-01-01      3\n",
       "1   2023-01-02      4\n",
       "2   2023-01-03      1\n",
       "3   2023-01-04      3\n",
       "4   2023-01-05      3\n",
       "5   2023-01-06      2\n",
       "6   2023-01-07      2\n",
       "7   2023-01-08      2\n",
       "8   2023-01-09      1\n",
       "9   2023-01-10      2\n",
       "10  2023-01-11      3\n",
       "11  2023-01-13      4\n",
       "12  2023-01-14      4\n",
       "13  2023-01-15      3\n",
       "14  2023-01-16      2\n",
       "15  2023-01-17      4\n",
       "16  2023-01-19      1\n",
       "17  2023-01-20      2\n",
       "18  2023-01-21      3\n",
       "19  2023-01-22      2\n",
       "20  2023-01-23      3\n",
       "21  2023-01-24      3\n",
       "22  2023-01-25      1\n",
       "23  2023-01-26      4"
      ]
     },
     "execution_count": 10,
     "metadata": {},
     "output_type": "execute_result"
    }
   ],
   "source": [
    "#What day of the week has the highest average sales?\n",
    "date = pd.DataFrame(sales_data.groupby('Date').size().reset_index())   #pd.DataFrame() creates a new DataFrame from the resulting Series, \n",
    "date.columns = ['Date','Total']                                                                  #which has two columns: 'Year' and the count of occurrences of that year\n",
    "date.head(24)"
   ]
  },
  {
   "cell_type": "code",
   "execution_count": 11,
   "id": "de5ad695",
   "metadata": {},
   "outputs": [
    {
     "data": {
      "image/png": "[encoded data removed]",
      "text/plain": [
       "<Figure size 576x288 with 1 Axes>"
      ]
     },
     "metadata": {
      "needs_background": "light"
     },
     "output_type": "display_data"
    }
   ],
   "source": [
    "plt.figure(figsize = (8,4))\n",
    "plt.plot(date['Date'], date['Total'])\n",
    "plt.xlabel('Date', size = 12)\n",
    "plt.ylabel('Number of product', size = 12)\n",
    "plt.show()"
   ]
  },
  {
   "cell_type": "markdown",
   "id": "f121cce7",
   "metadata": {},
   "source": [
    "#### Customer and Product Analysis"
   ]
  },
  {
   "cell_type": "code",
   "execution_count": 12,
   "id": "06f3a744",
   "metadata": {
    "scrolled": true
   },
   "outputs": [
    {
     "data": {
      "text/plain": [
       "Female    510\n",
       "Male      490\n",
       "Name: Gender, dtype: int64"
      ]
     },
     "execution_count": 12,
     "metadata": {},
     "output_type": "execute_result"
    }
   ],
   "source": [
    "# Finding the number of males and female customers\n",
    "gender_counts = sales_data['Gender'].value_counts()\n",
    "gender_counts"
   ]
  },
  {
   "cell_type": "code",
   "execution_count": 13,
   "id": "e797374c",
   "metadata": {},
   "outputs": [
    {
     "data": {
      "text/plain": [
       "Clothing       351\n",
       "Electronics    342\n",
       "Beauty         307\n",
       "Name: Product Category, dtype: int64"
      ]
     },
     "execution_count": 13,
     "metadata": {},
     "output_type": "execute_result"
    }
   ],
   "source": [
    "#Total no. of products \n",
    "category_counts = sales_data['Product Category'].value_counts()\n",
    "category_counts"
   ]
  },
  {
   "cell_type": "code",
   "execution_count": 14,
   "id": "a2c1cc22",
   "metadata": {},
   "outputs": [
    {
     "data": {
      "text/plain": [
       "'Clothing'"
      ]
     },
     "execution_count": 14,
     "metadata": {},
     "output_type": "execute_result"
    }
   ],
   "source": [
    "# find the product that is most bought\n",
    "most_frequent_category = category_counts.idxmax()\n",
    "most_frequent_category"
   ]
  },
  {
   "cell_type": "code",
   "execution_count": 15,
   "id": "b2dc4b93",
   "metadata": {},
   "outputs": [
    {
     "data": {
      "text/plain": [
       "2514"
      ]
     },
     "execution_count": 15,
     "metadata": {},
     "output_type": "execute_result"
    }
   ],
   "source": [
    "#What is the total quantity of items sold during a specific period\n",
    "total_quantity = sales_data['Quantity'].sum()\n",
    "total_quantity"
   ]
  },
  {
   "cell_type": "code",
   "execution_count": 16,
   "id": "9d5d0bd1",
   "metadata": {},
   "outputs": [
    {
     "data": {
      "text/html": [
       "<div>\n",
       "<style scoped>\n",
       "    .dataframe tbody tr th:only-of-type {\n",
       "        vertical-align: middle;\n",
       "    }\n",
       "\n",
       "    .dataframe tbody tr th {\n",
       "        vertical-align: top;\n",
       "    }\n",
       "\n",
       "    .dataframe thead th {\n",
       "        text-align: right;\n",
       "    }\n",
       "</style>\n",
       "<table border=\"1\" class=\"dataframe\">\n",
       "  <thead>\n",
       "    <tr style=\"text-align: right;\">\n",
       "      <th></th>\n",
       "      <th>Customer ID</th>\n",
       "      <th>Gender</th>\n",
       "      <th>Age</th>\n",
       "      <th>Product Category</th>\n",
       "      <th>Total Amount</th>\n",
       "    </tr>\n",
       "  </thead>\n",
       "  <tbody>\n",
       "    <tr>\n",
       "      <th>571</th>\n",
       "      <td>CUST572</td>\n",
       "      <td>Male</td>\n",
       "      <td>31</td>\n",
       "      <td>Clothing</td>\n",
       "      <td>2000</td>\n",
       "    </tr>\n",
       "    <tr>\n",
       "      <th>88</th>\n",
       "      <td>CUST089</td>\n",
       "      <td>Female</td>\n",
       "      <td>55</td>\n",
       "      <td>Electronics</td>\n",
       "      <td>2000</td>\n",
       "    </tr>\n",
       "    <tr>\n",
       "      <th>502</th>\n",
       "      <td>CUST503</td>\n",
       "      <td>Male</td>\n",
       "      <td>45</td>\n",
       "      <td>Beauty</td>\n",
       "      <td>2000</td>\n",
       "    </tr>\n",
       "    <tr>\n",
       "      <th>560</th>\n",
       "      <td>CUST561</td>\n",
       "      <td>Female</td>\n",
       "      <td>64</td>\n",
       "      <td>Clothing</td>\n",
       "      <td>2000</td>\n",
       "    </tr>\n",
       "    <tr>\n",
       "      <th>831</th>\n",
       "      <td>CUST832</td>\n",
       "      <td>Male</td>\n",
       "      <td>47</td>\n",
       "      <td>Beauty</td>\n",
       "      <td>2000</td>\n",
       "    </tr>\n",
       "    <tr>\n",
       "      <th>807</th>\n",
       "      <td>CUST808</td>\n",
       "      <td>Male</td>\n",
       "      <td>33</td>\n",
       "      <td>Beauty</td>\n",
       "      <td>2000</td>\n",
       "    </tr>\n",
       "    <tr>\n",
       "      <th>576</th>\n",
       "      <td>CUST577</td>\n",
       "      <td>Male</td>\n",
       "      <td>21</td>\n",
       "      <td>Beauty</td>\n",
       "      <td>2000</td>\n",
       "    </tr>\n",
       "    <tr>\n",
       "      <th>945</th>\n",
       "      <td>CUST946</td>\n",
       "      <td>Male</td>\n",
       "      <td>62</td>\n",
       "      <td>Electronics</td>\n",
       "      <td>2000</td>\n",
       "    </tr>\n",
       "    <tr>\n",
       "      <th>446</th>\n",
       "      <td>CUST447</td>\n",
       "      <td>Male</td>\n",
       "      <td>22</td>\n",
       "      <td>Beauty</td>\n",
       "      <td>2000</td>\n",
       "    </tr>\n",
       "    <tr>\n",
       "      <th>734</th>\n",
       "      <td>CUST735</td>\n",
       "      <td>Female</td>\n",
       "      <td>64</td>\n",
       "      <td>Clothing</td>\n",
       "      <td>2000</td>\n",
       "    </tr>\n",
       "    <tr>\n",
       "      <th>788</th>\n",
       "      <td>CUST789</td>\n",
       "      <td>Female</td>\n",
       "      <td>61</td>\n",
       "      <td>Clothing</td>\n",
       "      <td>2000</td>\n",
       "    </tr>\n",
       "    <tr>\n",
       "      <th>772</th>\n",
       "      <td>CUST773</td>\n",
       "      <td>Male</td>\n",
       "      <td>25</td>\n",
       "      <td>Electronics</td>\n",
       "      <td>2000</td>\n",
       "    </tr>\n",
       "    <tr>\n",
       "      <th>252</th>\n",
       "      <td>CUST253</td>\n",
       "      <td>Female</td>\n",
       "      <td>53</td>\n",
       "      <td>Clothing</td>\n",
       "      <td>2000</td>\n",
       "    </tr>\n",
       "    <tr>\n",
       "      <th>742</th>\n",
       "      <td>CUST743</td>\n",
       "      <td>Female</td>\n",
       "      <td>34</td>\n",
       "      <td>Beauty</td>\n",
       "      <td>2000</td>\n",
       "    </tr>\n",
       "    <tr>\n",
       "      <th>256</th>\n",
       "      <td>CUST257</td>\n",
       "      <td>Male</td>\n",
       "      <td>19</td>\n",
       "      <td>Beauty</td>\n",
       "      <td>2000</td>\n",
       "    </tr>\n",
       "    <tr>\n",
       "      <th>741</th>\n",
       "      <td>CUST742</td>\n",
       "      <td>Female</td>\n",
       "      <td>38</td>\n",
       "      <td>Electronics</td>\n",
       "      <td>2000</td>\n",
       "    </tr>\n",
       "    <tr>\n",
       "      <th>165</th>\n",
       "      <td>CUST166</td>\n",
       "      <td>Male</td>\n",
       "      <td>34</td>\n",
       "      <td>Clothing</td>\n",
       "      <td>2000</td>\n",
       "    </tr>\n",
       "    <tr>\n",
       "      <th>64</th>\n",
       "      <td>CUST065</td>\n",
       "      <td>Male</td>\n",
       "      <td>51</td>\n",
       "      <td>Electronics</td>\n",
       "      <td>2000</td>\n",
       "    </tr>\n",
       "    <tr>\n",
       "      <th>156</th>\n",
       "      <td>CUST157</td>\n",
       "      <td>Male</td>\n",
       "      <td>62</td>\n",
       "      <td>Electronics</td>\n",
       "      <td>2000</td>\n",
       "    </tr>\n",
       "    <tr>\n",
       "      <th>154</th>\n",
       "      <td>CUST155</td>\n",
       "      <td>Male</td>\n",
       "      <td>31</td>\n",
       "      <td>Electronics</td>\n",
       "      <td>2000</td>\n",
       "    </tr>\n",
       "  </tbody>\n",
       "</table>\n",
       "</div>"
      ],
      "text/plain": [
       "    Customer ID  Gender  Age Product Category  Total Amount\n",
       "571     CUST572    Male   31         Clothing          2000\n",
       "88      CUST089  Female   55      Electronics          2000\n",
       "502     CUST503    Male   45           Beauty          2000\n",
       "560     CUST561  Female   64         Clothing          2000\n",
       "831     CUST832    Male   47           Beauty          2000\n",
       "807     CUST808    Male   33           Beauty          2000\n",
       "576     CUST577    Male   21           Beauty          2000\n",
       "945     CUST946    Male   62      Electronics          2000\n",
       "446     CUST447    Male   22           Beauty          2000\n",
       "734     CUST735  Female   64         Clothing          2000\n",
       "788     CUST789  Female   61         Clothing          2000\n",
       "772     CUST773    Male   25      Electronics          2000\n",
       "252     CUST253  Female   53         Clothing          2000\n",
       "742     CUST743  Female   34           Beauty          2000\n",
       "256     CUST257    Male   19           Beauty          2000\n",
       "741     CUST742  Female   38      Electronics          2000\n",
       "165     CUST166    Male   34         Clothing          2000\n",
       "64      CUST065    Male   51      Electronics          2000\n",
       "156     CUST157    Male   62      Electronics          2000\n",
       "154     CUST155    Male   31      Electronics          2000"
      ]
     },
     "execution_count": 16,
     "metadata": {},
     "output_type": "execute_result"
    }
   ],
   "source": [
    "# top20 customer details and product\n",
    "top_20 = sales_data.sort_values(by=\"Total Amount\", ascending=False).head(20)\n",
    "top_20[[\"Customer ID\", \"Gender\", \"Age\" , \"Product Category\",\"Total Amount\"]]"
   ]
  },
  {
   "cell_type": "markdown",
   "id": "6129b6ca",
   "metadata": {},
   "source": [
    "#### Data Visualization"
   ]
  },
  {
   "cell_type": "code",
   "execution_count": 17,
   "id": "71f50ffc",
   "metadata": {},
   "outputs": [
    {
     "data": {
      "image/png": "[encoded data removed]",
      "text/plain": [
       "<Figure size 576x432 with 1 Axes>"
      ]
     },
     "metadata": {
      "needs_background": "light"
     },
     "output_type": "display_data"
    }
   ],
   "source": [
    "#Find the number of male and female customers\n",
    "plt.figure(figsize=(8, 6))\n",
    "gender_counts.plot(kind='bar')\n",
    "plt.xlabel('Gender')\n",
    "plt.ylabel('Count of customer')\n",
    "plt.title('Distribution of Customers by Gender')\n",
    "plt.show()"
   ]
  },
  {
   "cell_type": "code",
   "execution_count": 18,
   "id": "bc62d44e",
   "metadata": {},
   "outputs": [],
   "source": [
    "#Sales over time\n",
    "sales_data['Date'] = pd.to_datetime(sales_data['Date'])  # Convert 'Date' column to datetime\n",
    "sales_data.set_index('Date', inplace=True)  # Set 'Date' as the index"
   ]
  },
  {
   "cell_type": "code",
   "execution_count": 19,
   "id": "167905e4",
   "metadata": {},
   "outputs": [
    {
     "data": {
      "image/png": "[encoded data removed]",
      "text/plain": [
       "<Figure size 864x432 with 1 Axes>"
      ]
     },
     "metadata": {
      "needs_background": "light"
     },
     "output_type": "display_data"
    }
   ],
   "source": [
    "\n",
    "monthly_sales = sales_data.resample('M')['Total Amount'].sum()\n",
    "\n",
    "plt.figure(figsize=(12, 6))\n",
    "monthly_sales.plot(kind='line', marker='o')\n",
    "plt.xlabel('Month')\n",
    "plt.ylabel('Total Sales Amount')\n",
    "plt.title('Sales Trends Over Time')\n",
    "plt.grid(True)\n",
    "plt.show()"
   ]
  },
  {
   "cell_type": "code",
   "execution_count": 20,
   "id": "4272c59d",
   "metadata": {},
   "outputs": [
    {
     "data": {
      "image/png": "[encoded data removed]",
      "text/plain": [
       "<Figure size 360x576 with 1 Axes>"
      ]
     },
     "metadata": {
      "needs_background": "light"
     },
     "output_type": "display_data"
    }
   ],
   "source": [
    "#Total no. of products \n",
    "plt.figure(figsize = (5,8))\n",
    "plt.xticks(size = 10)           # to set the font size of the tick labels on the x-axis of a plot\n",
    "plt.yticks(size = 10)           # to set the font size of the tick labels on the y-axis of a plot\n",
    "sns.countplot(x =\"Product Category\", data = sales_data, order = sales_data['Product Category'].value_counts().index, ec = 'Black', lw = 1.5)     #ec=border color and lw for border width\n",
    "plt.title('Top Product Category')\n",
    "plt.xlabel('Product Category', size = 10)\n",
    "plt.ylabel('Count', size = 10)\n",
    "plt.xticks(rotation = 45)\n",
    "plt.show()"
   ]
  },
  {
   "cell_type": "code",
   "execution_count": 21,
   "id": "3ffda0f3",
   "metadata": {},
   "outputs": [
    {
     "data": {
      "image/png": "[encoded data removed]",
      "text/plain": [
       "<Figure size 720x288 with 2 Axes>"
      ]
     },
     "metadata": {
      "needs_background": "light"
     },
     "output_type": "display_data"
    }
   ],
   "source": [
    "#How does customer age relate to their purchase quantity and total spending?\n",
    "correlation_matrix = sales_data[['Age', 'Quantity', 'Price per Unit', 'Total Amount']].corr()\n",
    "plt.figure(figsize=(10, 4))\n",
    "sns.heatmap(correlation_matrix, annot=True, cmap=\"coolwarm\")\n",
    "plt.title('Correlation Between Numerical Variables')\n",
    "plt.show()"
   ]
  },
  {
   "cell_type": "markdown",
   "id": "70e2f07a",
   "metadata": {},
   "source": [
    "Observation:\n",
    "The provided data suggests a weak negative correlation between customer age and purchase quantity (-0.11) and a moderate positive correlation between customer age and total spending (0.49).\n",
    "\n",
    "These findings imply that:\n",
    "\n",
    "Younger customers tend to purchase fewer items, on average, compared to older customers.\n",
    "There's a positive association between age and total amount spent, suggesting that older customers might spend more overall, potentially due to higher disposable income or different purchasing habits."
   ]
  },
  {
   "cell_type": "markdown",
   "id": "97313288",
   "metadata": {},
   "source": [
    "#### Recommendations: Provide actionable recommendations based on the EDA."
   ]
  },
  {
   "cell_type": "markdown",
   "id": "478d4b5c",
   "metadata": {},
   "source": [
    "Customer Satisfaction: Analyze customer feedback or ratings, if available, to identify areas of improvement. Addressing customer concerns promptly and providing exceptional service can enhance customer satisfaction and increase customer loyalty."
   ]
  },
  {
   "cell_type": "markdown",
   "id": "31756eaa",
   "metadata": {},
   "source": [
    "Price Analysis: Analyze the relationship between price per unit and total amount spent by customers. Evaluate if adjusting pricing strategies can increase sales and profitability. Consider offering discounts or promotions for high-volume or high-value purchases."
   ]
  },
  {
   "cell_type": "code",
   "execution_count": null,
   "id": "d87ab870",
   "metadata": {},
   "outputs": [],
   "source": []
  }
 ],
 "metadata": {
  "kernelspec": {
   "display_name": "Python 3 (ipykernel)",
   "language": "python",
   "name": "python3"
  },
  "language_info": {
   "codemirror_mode": {
    "name": "ipython",
    "version": 3
   },
   "file_extension": ".py",
   "mimetype": "text/x-python",
   "name": "python",
   "nbconvert_exporter": "python",
   "pygments_lexer": "ipython3",
   "version": "3.9.12"
  }
 },
 "nbformat": 4,
 "nbformat_minor": 5
}
